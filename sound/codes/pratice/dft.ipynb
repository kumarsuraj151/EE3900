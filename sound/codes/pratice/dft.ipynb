import scipy as sp

def dftmtx(N):
    return sp.fft(sp.eye(N))


print(dftmtx(4))