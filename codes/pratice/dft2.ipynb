{
 "cells": [
  {
   "cell_type": "code",
   "execution_count": 4,
   "metadata": {},
   "outputs": [
    {
     "name": "stdout",
     "output_type": "stream",
     "text": [
      "[[ 1.+0.j  1.+0.j]\n",
      " [ 1.+0.j -1.+0.j]]\n"
     ]
    }
   ],
   "source": [
    "import numpy as np\n",
    "\n",
    "dftmtx = np.fft.fft(np.eye(2))\n",
    "\n",
    "\n",
    "print(dftmtx)"
   ]
  },
  {
   "cell_type": "code",
   "execution_count": null,
   "metadata": {},
   "outputs": [],
   "source": [
    "\n",
    "// dc *ifft(dc *X, int N) {\n",
    "// \tif (N == 1) {\n",
    "// \t\treturn X;\n",
    "// \t}\n",
    "// \tdc *F1 = malloc(N/2 * sizeof(*F1));\n",
    "// \tdc *F2 = malloc(N/2 * sizeof(*F2));\n",
    "// \tfor (int i = 0; i < N/2; i++) {\n",
    "// \t\tF1[i] = X[2*i];\n",
    "// \t\tF2[i] = X[2*i + 1];\n",
    "// \t}\n",
    "// \tdc *f1 = fft(F1, N/2);\n",
    "// \tdc *f2 = fft(F2, N/2);\n",
    "// \tdc *x = malloc(N * sizeof(*x));\n",
    "// \tfor (int i = 0; i < N/2; i++) {\n",
    "// \t\tx[i] = \t0.5 * (f1[i] + cexp(2 * I * M_PI * i / N) * f2[i]);\n",
    "// \t\tx[i + N/2] = 0.5 * (f1[i] - cexp(2 * I * M_PI * i / N) * f2[i]);\n",
    "// \t}\n",
    "// \treturn x;\n",
    "// }\n",
    "\n",
    "// dc *convolution(dc *x, int nx, dc *h, int nh) {\n",
    "// \tint ny = nx + nh - 1;\n",
    "// \tdc *y = malloc(ny * sizeof(*y));\n",
    "// \tfor (int n = 0; n < ny; n++) \n",
    "// \t\tfor (int k = 0; k < nx; k++) \n",
    "// \t\t\tif (n - k >= 0 && n - k < nh)\n",
    "// \t\t\t\ty[n] = x[k] * h[n-k];\n",
    "// \treturn y;\n",
    "// }"
   ]
  },
  {
   "cell_type": "markdown",
   "metadata": {},
   "source": [
    "import numpy as np\n",
    "\n",
    "A = [[1,0,1,1],\n",
    "      [0,1,1,-1.j],\n",
    "      [1,0,-1,-1],\n",
    "      [0,1,-1,1.j]]\n",
    "      \n",
    "B = [[1,1,0,0],\n",
    "      [1,-1,0,0],\n",
    "      [0,0,1,1],\n",
    "      [0,0,1,-1]]\n",
    " \n",
    "print(np.matmul(A,B))"
   ]
  },
  {
   "cell_type": "code",
   "execution_count": 4,
   "metadata": {},
   "outputs": [
    {
     "name": "stdout",
     "output_type": "stream",
     "text": [
      "[[ 1.+0.j  1.+0.j  1.+0.j  1.+0.j]\n",
      " [ 1.+0.j  0.-1.j -1.+0.j  0.+1.j]\n",
      " [ 1.+0.j -1.+0.j  1.+0.j -1.+0.j]\n",
      " [ 1.+0.j  0.+1.j -1.+0.j  0.-1.j]]\n"
     ]
    }
   ],
   "source": [
    "\n",
    "\n",
    "import numpy as np\n",
    "\n",
    "# A =[[1.+0.j,1.+0.j,1.+0.j,1.+0.j],\n",
    "#     [1.+0.j,-1.+0.j,0.-1.j,0.+1.j],\n",
    "#     [1.+0.j,1.+0.j,-1.+0.j,-1.+0.j],\n",
    "#     [1.+0.j,-1.+0.j,0.+1.j,0.-1.j]]\n",
    "      \n",
    "# B = [[1,0,0,0],\n",
    "#       [0,0,1,0],\n",
    "#       [0,1,0,0],\n",
    "#       [0,0,0,1]]\n",
    " \n",
    "# print(np.matmul(A,B))\n",
    "# A =[[1,0,1,1],\n",
    "#     [1,-1,1,-1],\n",
    "#     [1,1,-1,-1],\n",
    "#     [1,-1,1,-1]]\n",
    "      \n",
    "# B = [[1,0,0,0],\n",
    "#       [0,0,1,0],\n",
    "#       [0,1,0,0],\n",
    "#       [0,0,0,1]]\n",
    " \n",
    "# print(np.matmul(A,B))"
   ]
  }
 ],
 "metadata": {
  "kernelspec": {
   "display_name": "Python 3.9.12 ('base')",
   "language": "python",
   "name": "python3"
  },
  "language_info": {
   "codemirror_mode": {
    "name": "ipython",
    "version": 3
   },
   "file_extension": ".py",
   "mimetype": "text/x-python",
   "name": "python",
   "nbconvert_exporter": "python",
   "pygments_lexer": "ipython3",
   "version": "3.9.12"
  },
  "orig_nbformat": 4,
  "vscode": {
   "interpreter": {
    "hash": "4abef517ba9674bba0a711b24b436908f083d341dd15bba4a601c7fa9a36111c"
   }
  }
 },
 "nbformat": 4,
 "nbformat_minor": 2
}
